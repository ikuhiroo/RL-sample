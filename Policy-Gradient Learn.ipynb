{
 "cells": [
  {
   "cell_type": "code",
   "execution_count": 1,
   "metadata": {},
   "outputs": [],
   "source": [
    "import tensorflow as tf\n",
    "import numpy as np\n",
    "from tqdm import tqdm_notebook as tqdm"
   ]
  },
  {
   "cell_type": "code",
   "execution_count": 2,
   "metadata": {},
   "outputs": [],
   "source": [
    "# 閾値を格納するリスト, 小さいほど当たりが出やすい\n",
    "# エージェントはbanditsを知らない\n",
    "bandits = [0.2, -0.5, -0.2, 0]\n",
    "num_bandits = len(bandits)"
   ]
  },
  {
   "cell_type": "code",
   "execution_count": 3,
   "metadata": {},
   "outputs": [],
   "source": [
    "# 当たりかハズレかを返す関数\n",
    "def pullBandits(bandit):\n",
    "    # 正規分布で乱数を発生させる\n",
    "    result = np.random.randn(1)\n",
    "    if result > bandit:\n",
    "        return 1\n",
    "    else:\n",
    "        return -1"
   ]
  },
  {
   "cell_type": "code",
   "execution_count": 4,
   "metadata": {},
   "outputs": [],
   "source": [
    "tf.reset_default_graph()"
   ]
  },
  {
   "cell_type": "code",
   "execution_count": 5,
   "metadata": {},
   "outputs": [],
   "source": [
    "with tf.name_scope(\"weights\"):\n",
    "    # 1で初期化\n",
    "    weights = tf.Variable(tf.ones([num_bandits]))\n",
    "    tf.summary.histogram(\"weights\", weights)\n",
    "\n",
    "with tf.name_scope(\"chosen_action\"):\n",
    "    # 何番目のアームを引くか\n",
    "    # weightsが大きいアームを引く\n",
    "    chosen_action = tf.argmax(weights, 0)\n",
    "\n",
    "with tf.name_scope(\"reward_holder\"):\n",
    "    # 報酬を保持\n",
    "    reward_holder = tf.placeholder(shape=[1], dtype=tf.float32)\n",
    "\n",
    "with tf.name_scope(\"action_holder\"):\n",
    "    # aを保持\n",
    "    action_holder = tf.placeholder(shape=[1], dtype=tf.int32)\n",
    "\n",
    "with tf.name_scope(\"responsible_weight\"):\n",
    "    # 選択したアームの重みを取り出す\n",
    "    responsible_weight = tf.slice(weights, action_holder, [1])\n",
    "\n",
    "with tf.name_scope(\"loss\"):\n",
    "    loss = -(tf.log(responsible_weight) * reward_holder)\n",
    "\n",
    "with tf.name_scope(\"optimize\"):\n",
    "    update = tf.train.GradientDescentOptimizer(learning_rate=0.001).minimize(loss)"
   ]
  },
  {
   "cell_type": "code",
   "execution_count": 6,
   "metadata": {},
   "outputs": [],
   "source": [
    "\"\"\"ハイパーパラメータ\"\"\"\n",
    "total_episodes = 1000\n",
    "total_reward = np.zeros(num_bandits)\n",
    "e = 0.1"
   ]
  },
  {
   "cell_type": "code",
   "execution_count": 7,
   "metadata": {},
   "outputs": [
    {
     "data": {
      "application/vnd.jupyter.widget-view+json": {
       "model_id": "3154701d44fe43269f68061a1fee7d39",
       "version_major": 2,
       "version_minor": 0
      },
      "text/html": [
       "<p>Failed to display Jupyter Widget of type <code>HBox</code>.</p>\n",
       "<p>\n",
       "  If you're reading this message in the Jupyter Notebook or JupyterLab Notebook, it may mean\n",
       "  that the widgets JavaScript is still loading. If this message persists, it\n",
       "  likely means that the widgets JavaScript library is either not installed or\n",
       "  not enabled. See the <a href=\"https://ipywidgets.readthedocs.io/en/stable/user_install.html\">Jupyter\n",
       "  Widgets Documentation</a> for setup instructions.\n",
       "</p>\n",
       "<p>\n",
       "  If you're reading this message in another frontend (for example, a static\n",
       "  rendering on GitHub or <a href=\"https://nbviewer.jupyter.org/\">NBViewer</a>),\n",
       "  it may mean that your frontend doesn't currently support widgets.\n",
       "</p>\n"
      ],
      "text/plain": [
       "HBox(children=(IntProgress(value=1, bar_style='info', max=1), HTML(value='')))"
      ]
     },
     "metadata": {},
     "output_type": "display_data"
    },
    {
     "name": "stdout",
     "output_type": "stream",
     "text": [
      "0番目\tリワード・報酬の一覧: [1. 0. 0. 0.]\n",
      "50番目\tリワード・報酬の一覧: [-3. 25.  0. -1.]\n",
      "100番目\tリワード・報酬の一覧: [-2. 35.  0. -2.]\n",
      "150番目\tリワード・報酬の一覧: [-3. 53.  2. -1.]\n",
      "200番目\tリワード・報酬の一覧: [-4. 76.  2. -1.]\n",
      "250番目\tリワード・報酬の一覧: [-4. 91.  3. -1.]\n",
      "300番目\tリワード・報酬の一覧: [ -4. 106.   2.  -3.]\n",
      "350番目\tリワード・報酬の一覧: [ -4. 137.   1.  -3.]\n",
      "400番目\tリワード・報酬の一覧: [ -6. 144.   1.  -2.]\n",
      "450番目\tリワード・報酬の一覧: [ -4. 151.   2.  -2.]\n",
      "500番目\tリワード・報酬の一覧: [ -3. 164.   3.  -3.]\n",
      "550番目\tリワード・報酬の一覧: [ -3. 179.   3.  -2.]\n",
      "600番目\tリワード・報酬の一覧: [ -3. 196.   4.  -2.]\n",
      "650番目\tリワード・報酬の一覧: [ -2. 226.   5.  -2.]\n",
      "700番目\tリワード・報酬の一覧: [ -1. 230.   5.  -1.]\n",
      "750番目\tリワード・報酬の一覧: [ -3. 248.   4.  -2.]\n",
      "800番目\tリワード・報酬の一覧: [ -4. 264.   5.  -2.]\n",
      "850番目\tリワード・報酬の一覧: [ -7. 282.   4.  -2.]\n",
      "900番目\tリワード・報酬の一覧: [ -7. 308.   4.  -2.]\n",
      "950番目\tリワード・報酬の一覧: [ -5. 329.   4.  -1.]\n",
      "\n",
      "エージェントが考える最適なアームは，2番目のアームです．\n"
     ]
    }
   ],
   "source": [
    "with tf.Session() as sess:\n",
    "    init = tf.global_variables_initializer()\n",
    "    sess.run(init)\n",
    "    merged = tf.summary.merge_all()\n",
    "    writer = tf.summary.FileWriter(\"./logs\", sess.graph)\n",
    "    i = 0\n",
    "    with tqdm() as pbar:\n",
    "        while i < total_episodes:\n",
    "            # εグリーディー(ランダムな手を打たせる）法\n",
    "            if np.random.rand(1) < e:\n",
    "                action = np.random.randint(num_bandits)\n",
    "            else:\n",
    "                action = sess.run(chosen_action)\n",
    "\n",
    "            # 報酬を取得\n",
    "            reward = pullBandits(bandits[action])\n",
    "\n",
    "            _, resp, ww, _merged = sess.run(\n",
    "                [update, responsible_weight, weights, merged],\n",
    "                feed_dict={reward_holder: [reward], action_holder: [action]},\n",
    "            )\n",
    "            \n",
    "            writer.add_summary(_merged)\n",
    "            \n",
    "            # 報酬の累積和の更新\n",
    "            total_reward[action] += reward\n",
    "\n",
    "            # 50回に１度，報酬を表示\n",
    "            if i % 50 == 0:\n",
    "                print(\"{}番目\\tリワード・報酬の一覧: {}\".format(i, total_reward))\n",
    "\n",
    "            pbar.update(1)\n",
    "            i += 1\n",
    "            \n",
    "        writer.close()\n",
    "\n",
    "print(\"エージェントが考える最適なアームは，{}番目のアームです．\".format(np.argmax(ww) + 1))"
   ]
  },
  {
   "cell_type": "code",
   "execution_count": null,
   "metadata": {},
   "outputs": [],
   "source": []
  },
  {
   "cell_type": "code",
   "execution_count": null,
   "metadata": {},
   "outputs": [],
   "source": []
  }
 ],
 "metadata": {
  "kernelspec": {
   "display_name": "Python 3",
   "language": "python",
   "name": "python3"
  },
  "language_info": {
   "codemirror_mode": {
    "name": "ipython",
    "version": 3
   },
   "file_extension": ".py",
   "mimetype": "text/x-python",
   "name": "python",
   "nbconvert_exporter": "python",
   "pygments_lexer": "ipython3",
   "version": "3.6.3"
  }
 },
 "nbformat": 4,
 "nbformat_minor": 2
}
