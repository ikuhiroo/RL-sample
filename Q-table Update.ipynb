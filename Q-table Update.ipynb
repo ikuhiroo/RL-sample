{
 "cells": [
  {
   "cell_type": "code",
   "execution_count": 43,
   "metadata": {},
   "outputs": [],
   "source": [
    "%matplotlib inline\n",
    "import gym\n",
    "import numpy as np\n",
    "from tqdm import tqdm_notebook as tqdm\n",
    "import pandas as pd\n",
    "import pandas_profiling as pdp\n",
    "import matplotlib.pyplot as plt"
   ]
  },
  {
   "cell_type": "code",
   "execution_count": 44,
   "metadata": {},
   "outputs": [],
   "source": [
    "# モデルのimport\n",
    "env = gym.make(\"FrozenLake-v0\")"
   ]
  },
  {
   "cell_type": "code",
   "execution_count": 45,
   "metadata": {},
   "outputs": [],
   "source": [
    "# Qテーブル作成\n",
    "Q = np.zeros([env.observation_space.n, env.action_space.n])"
   ]
  },
  {
   "cell_type": "code",
   "execution_count": 46,
   "metadata": {},
   "outputs": [],
   "source": [
    "\"\"\"ハイパーパラメータ設定\"\"\"\n",
    "# 学習率\n",
    "lr = 0.8\n",
    "# 割引率\n",
    "gamma = 0.95\n",
    "# 試行回数\n",
    "num_episodes = 20000\n",
    "# 報酬リスト\n",
    "rList = []"
   ]
  },
  {
   "cell_type": "code",
   "execution_count": 47,
   "metadata": {},
   "outputs": [
    {
     "data": {
      "application/vnd.jupyter.widget-view+json": {
       "model_id": "ff3e0e25fa1649418d4f68e750a72f16",
       "version_major": 2,
       "version_minor": 0
      },
      "text/html": [
       "<p>Failed to display Jupyter Widget of type <code>HBox</code>.</p>\n",
       "<p>\n",
       "  If you're reading this message in the Jupyter Notebook or JupyterLab Notebook, it may mean\n",
       "  that the widgets JavaScript is still loading. If this message persists, it\n",
       "  likely means that the widgets JavaScript library is either not installed or\n",
       "  not enabled. See the <a href=\"https://ipywidgets.readthedocs.io/en/stable/user_install.html\">Jupyter\n",
       "  Widgets Documentation</a> for setup instructions.\n",
       "</p>\n",
       "<p>\n",
       "  If you're reading this message in another frontend (for example, a static\n",
       "  rendering on GitHub or <a href=\"https://nbviewer.jupyter.org/\">NBViewer</a>),\n",
       "  it may mean that your frontend doesn't currently support widgets.\n",
       "</p>\n"
      ],
      "text/plain": [
       "HBox(children=(IntProgress(value=0, max=20000), HTML(value='')))"
      ]
     },
     "metadata": {},
     "output_type": "display_data"
    },
    {
     "name": "stdout",
     "output_type": "stream",
     "text": [
      "\n"
     ]
    }
   ],
   "source": [
    "for i in tqdm(range(num_episodes)):\n",
    "    # stateの初期化\n",
    "    state = env.reset()\n",
    "    # 報酬の累積和の初期化\n",
    "    rAll = 0\n",
    "    # Holeに落ちたらTrue\n",
    "    done = False\n",
    "    # 1エピソードあたりのカウンター\n",
    "    j = 0\n",
    "    # １エピソードあたり 99回移動\n",
    "    while j < 99:\n",
    "        j += 1\n",
    "        # グリーディー法, ノイズを加えることで学習しやすくする\n",
    "        action = np.argmax(\n",
    "            Q[state, :] + np.random.randn(1, env.action_space.n) * (1.0 / (i + 1))\n",
    "        )\n",
    "        # アクションの実行結果の取得\n",
    "        next_state, reward, done, _ = env.step(action)\n",
    "\n",
    "        # 更新, ベルマン方程式\n",
    "        Q[state, action] = Q[state, action] + lr * (\n",
    "            reward + gamma * np.max(Q[next_state, :] - Q[state, action])\n",
    "        )\n",
    "        rAll += reward\n",
    "        state = next_state\n",
    "        if done:\n",
    "            break\n",
    "    rList.append(rAll)"
   ]
  },
  {
   "cell_type": "code",
   "execution_count": 55,
   "metadata": {},
   "outputs": [
    {
     "name": "stdout",
     "output_type": "stream",
     "text": [
      "average_reward: 0.6255\n",
      "最終的なQテーブルの値: \n",
      "[[8.39683187e-01 0.00000000e+00 0.00000000e+00 0.00000000e+00]\n",
      " [5.70117617e-04 0.00000000e+00 0.00000000e+00 7.83399796e-01]\n",
      " [1.06292106e-03 5.62918710e-01 0.00000000e+00 0.00000000e+00]\n",
      " [4.88970873e-04 0.00000000e+00 1.59054363e-03 6.06062083e-01]\n",
      " [7.77124132e-01 1.62587922e-02 0.00000000e+00 0.00000000e+00]\n",
      " [0.00000000e+00 0.00000000e+00 0.00000000e+00 0.00000000e+00]\n",
      " [7.59729029e-03 1.51318613e-05 5.83976432e-06 1.49929658e-05]\n",
      " [0.00000000e+00 0.00000000e+00 0.00000000e+00 0.00000000e+00]\n",
      " [0.00000000e+00 0.00000000e+00 0.00000000e+00 7.21417779e-01]\n",
      " [0.00000000e+00 7.22936569e-01 0.00000000e+00 0.00000000e+00]\n",
      " [2.03236661e-01 8.04525544e-04 5.35198164e-04 3.94408246e-04]\n",
      " [0.00000000e+00 0.00000000e+00 0.00000000e+00 0.00000000e+00]\n",
      " [0.00000000e+00 0.00000000e+00 0.00000000e+00 0.00000000e+00]\n",
      " [0.00000000e+00 0.00000000e+00 9.58096756e-01 0.00000000e+00]\n",
      " [0.00000000e+00 0.00000000e+00 1.04776446e+00 0.00000000e+00]\n",
      " [0.00000000e+00 0.00000000e+00 0.00000000e+00 0.00000000e+00]]\n"
     ]
    }
   ],
   "source": [
    "print(\"average_reward: {}\".format(sum(rList)/num_episodes))\n",
    "print(\"最終的なQテーブルの値: \\n{}\".format(Q))"
   ]
  },
  {
   "cell_type": "code",
   "execution_count": 54,
   "metadata": {},
   "outputs": [
    {
     "name": "stdout",
     "output_type": "stream",
     "text": [
      "\n",
      " Q_max= [0, 3, 1, 3, 0, 0, 0, 0, 3, 1, 0, 0, 0, 2, 2, 0]\n"
     ]
    }
   ],
   "source": [
    "print(\"\\n Q_max=\", [np.argmax(ii) for ii in Q])"
   ]
  },
  {
   "cell_type": "code",
   "execution_count": 63,
   "metadata": {},
   "outputs": [
    {
     "name": "stdout",
     "output_type": "stream",
     "text": [
      "28 time steps finished\n",
      "\n",
      " q_table=\n",
      " [[8.39683187e-01 0.00000000e+00 0.00000000e+00 0.00000000e+00]\n",
      " [5.70117617e-04 0.00000000e+00 0.00000000e+00 7.83399796e-01]\n",
      " [1.06292106e-03 5.62918710e-01 0.00000000e+00 0.00000000e+00]\n",
      " [4.88970873e-04 0.00000000e+00 1.59054363e-03 6.06062083e-01]\n",
      " [7.77124132e-01 1.62587922e-02 0.00000000e+00 0.00000000e+00]\n",
      " [0.00000000e+00 0.00000000e+00 0.00000000e+00 0.00000000e+00]\n",
      " [7.59729029e-03 1.51318613e-05 5.83976432e-06 1.49929658e-05]\n",
      " [0.00000000e+00 0.00000000e+00 0.00000000e+00 0.00000000e+00]\n",
      " [0.00000000e+00 0.00000000e+00 0.00000000e+00 7.21417779e-01]\n",
      " [0.00000000e+00 7.22936569e-01 0.00000000e+00 0.00000000e+00]\n",
      " [2.03236661e-01 8.04525544e-04 5.35198164e-04 3.94408246e-04]\n",
      " [0.00000000e+00 0.00000000e+00 0.00000000e+00 0.00000000e+00]\n",
      " [0.00000000e+00 0.00000000e+00 0.00000000e+00 0.00000000e+00]\n",
      " [0.00000000e+00 0.00000000e+00 9.58096756e-01 0.00000000e+00]\n",
      " [0.00000000e+00 0.00000000e+00 1.04776446e+00 0.00000000e+00]\n",
      " [0.00000000e+00 0.00000000e+00 0.00000000e+00 0.00000000e+00]]\n",
      "\n",
      " average_reward= 2.0\n"
     ]
    }
   ],
   "source": [
    "test_num_episodes = 1  # テストの総試行回数\n",
    "max_number_steps = 100\n",
    "# 学習したQ関数を使ってテスト\n",
    "from IPython.display import clear_output\n",
    "import time\n",
    "for episode in range(test_num_episodes):\n",
    "    state = env.reset()\n",
    "    env.render()\n",
    "    for t in range(max_number_steps):\n",
    "        action = np.argmax(Q[state])\n",
    "        state, reward, done, _ = env.step(action)\n",
    "        rAll += reward\n",
    "        env.render()\n",
    "        time.sleep(0.5)\n",
    "        clear_output()\n",
    "        if done:\n",
    "            print(\"{} time steps finished\".format(t + 1))\n",
    "            break\n",
    "\n",
    "# テスト結果\n",
    "print(\"\\n q_table=\\n\", Q)\n",
    "print(\"\\n average_reward=\", rAll / test_num_episodes)"
   ]
  },
  {
   "cell_type": "code",
   "execution_count": null,
   "metadata": {},
   "outputs": [],
   "source": []
  }
 ],
 "metadata": {
  "kernelspec": {
   "display_name": "Python 3",
   "language": "python",
   "name": "python3"
  },
  "language_info": {
   "codemirror_mode": {
    "name": "ipython",
    "version": 3
   },
   "file_extension": ".py",
   "mimetype": "text/x-python",
   "name": "python",
   "nbconvert_exporter": "python",
   "pygments_lexer": "ipython3",
   "version": "3.6.3"
  }
 },
 "nbformat": 4,
 "nbformat_minor": 2
}
