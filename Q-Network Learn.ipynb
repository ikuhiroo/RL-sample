{
 "cells": [
  {
   "cell_type": "code",
   "execution_count": 16,
   "metadata": {},
   "outputs": [],
   "source": [
    "%matplotlib inline\n",
    "import matplotlib.pyplot as plt\n",
    "import gym\n",
    "import numpy as np\n",
    "import random\n",
    "import tensorflow as tf\n",
    "from tqdm import tqdm_notebook as tqdm\n",
    "import pandas as pd\n",
    "import pandas_profiling as pdp"
   ]
  },
  {
   "cell_type": "code",
   "execution_count": 17,
   "metadata": {},
   "outputs": [],
   "source": [
    "# モデルの読み込み\n",
    "env = gym.make(\"FrozenLake-v0\")"
   ]
  },
  {
   "cell_type": "code",
   "execution_count": 18,
   "metadata": {},
   "outputs": [
    {
     "data": {
      "text/plain": [
       "<function tensorflow.python.framework.ops.reset_default_graph>"
      ]
     },
     "execution_count": 18,
     "metadata": {},
     "output_type": "execute_result"
    }
   ],
   "source": [
    "# tenorflowの初期化\n",
    "tf.reset_default_graph"
   ]
  },
  {
   "cell_type": "code",
   "execution_count": 19,
   "metadata": {},
   "outputs": [],
   "source": [
    "with tf.name_scope(\"model\"):\n",
    "    inputs1 = tf.placeholder(shape=[1, 16], dtype=tf.float32, name=\"input\")\n",
    "    \n",
    "    with tf.variable_scope(\"Weight\"):\n",
    "        W = tf.Variable(tf.random_uniform([16, 4], 0, 0.01), name=\"W\")\n",
    "        tf.summary.histogram(\"W\", W)\n",
    "\n",
    "    # Q値の予測値\n",
    "    Qout = tf.matmul(inputs1, W)\n",
    "    # Q値の予測値が最大のactionを返す\n",
    "    predict = tf.argmax(Qout, 1)\n",
    "\n",
    "    # 最終的なQ値\n",
    "    nextQ = tf.placeholder(shape=[1, 4], dtype=tf.float32, name=\"nextQ\")\n",
    "\n",
    "    with tf.name_scope(\"loss\"):\n",
    "        # nextQとQoutの差を最小化するようにWを更新する\n",
    "        loss = tf.reduce_sum(tf.square(nextQ - Qout))\n",
    "        \n",
    "    with tf.name_scope(\"update\"):\n",
    "        # 最適化\n",
    "        updateModel = tf.train.GradientDescentOptimizer(learning_rate=0.1).minimize(loss)"
   ]
  },
  {
   "cell_type": "code",
   "execution_count": 20,
   "metadata": {},
   "outputs": [
    {
     "data": {
      "text/plain": [
       "<tf.Variable 'model_1/Weight/W:0' shape=(16, 4) dtype=float32_ref>"
      ]
     },
     "execution_count": 20,
     "metadata": {},
     "output_type": "execute_result"
    }
   ],
   "source": [
    "W"
   ]
  },
  {
   "cell_type": "code",
   "execution_count": 21,
   "metadata": {},
   "outputs": [
    {
     "data": {
      "text/plain": [
       "<tf.Tensor 'model_1/ArgMax:0' shape=(1,) dtype=int64>"
      ]
     },
     "execution_count": 21,
     "metadata": {},
     "output_type": "execute_result"
    }
   ],
   "source": [
    "predict"
   ]
  },
  {
   "cell_type": "code",
   "execution_count": 22,
   "metadata": {},
   "outputs": [
    {
     "data": {
      "text/plain": [
       "<tf.Operation 'model_1/update/GradientDescent' type=NoOp>"
      ]
     },
     "execution_count": 22,
     "metadata": {},
     "output_type": "execute_result"
    }
   ],
   "source": [
    "updateModel"
   ]
  },
  {
   "cell_type": "code",
   "execution_count": 23,
   "metadata": {},
   "outputs": [],
   "source": [
    "# ハイパーパラメータの設定\n",
    "y = 0.99\n",
    "e = 0.1\n",
    "num_episodes = 2000"
   ]
  },
  {
   "cell_type": "code",
   "execution_count": 24,
   "metadata": {},
   "outputs": [],
   "source": [
    "# 試行回数のリスト\n",
    "jList = []\n",
    "# 報酬のリスト\n",
    "rList = []\n",
    "# イプシロン（exploreの閾値）のリスト\n",
    "eList = []"
   ]
  },
  {
   "cell_type": "code",
   "execution_count": 33,
   "metadata": {},
   "outputs": [
    {
     "data": {
      "application/vnd.jupyter.widget-view+json": {
       "model_id": "417a75d10d624581bf1f01f2656a65c7",
       "version_major": 2,
       "version_minor": 0
      },
      "text/html": [
       "<p>Failed to display Jupyter Widget of type <code>HBox</code>.</p>\n",
       "<p>\n",
       "  If you're reading this message in the Jupyter Notebook or JupyterLab Notebook, it may mean\n",
       "  that the widgets JavaScript is still loading. If this message persists, it\n",
       "  likely means that the widgets JavaScript library is either not installed or\n",
       "  not enabled. See the <a href=\"https://ipywidgets.readthedocs.io/en/stable/user_install.html\">Jupyter\n",
       "  Widgets Documentation</a> for setup instructions.\n",
       "</p>\n",
       "<p>\n",
       "  If you're reading this message in another frontend (for example, a static\n",
       "  rendering on GitHub or <a href=\"https://nbviewer.jupyter.org/\">NBViewer</a>),\n",
       "  it may mean that your frontend doesn't currently support widgets.\n",
       "</p>\n"
      ],
      "text/plain": [
       "HBox(children=(IntProgress(value=0, max=2000), HTML(value='')))"
      ]
     },
     "metadata": {},
     "output_type": "display_data"
    },
    {
     "name": "stdout",
     "output_type": "stream",
     "text": [
      "\n",
      "Success Episode Ratio: 95.35%\n"
     ]
    }
   ],
   "source": [
    "rewards_list = []\n",
    "\n",
    "with tf.Session() as sess:\n",
    "    init = tf.global_variables_initializer()\n",
    "    sess.run(init)\n",
    "    merged = tf.summary.merge_all()\n",
    "    writer = tf.summary.FileWriter(\"./logs\", sess.graph)\n",
    "    for i in tqdm(range(num_episodes)):\n",
    "        # statusの初期化\n",
    "        s = env.reset()\n",
    "        # 報酬の累積和の初期化\n",
    "        rAll = 0\n",
    "        d = False\n",
    "        j = 0\n",
    "        while j < 99:\n",
    "            j += 1\n",
    "            # 前回のstatusからQ値を予測\n",
    "            # a: Q値の最大値の手\n",
    "            # allQ: Q値のリスト\n",
    "            a, allQ = sess.run(\n",
    "                [predict, Qout], feed_dict={inputs1: np.identity(16)[s : s + 1]}\n",
    "            )\n",
    "\n",
    "            # εグリーディー(ランダムな手を打たせる）\n",
    "            # 10%以下の確率でランダムに指し手を決める\n",
    "            if np.random.rand(1) < e:\n",
    "                a[0] = env.action_space.sample()\n",
    "\n",
    "            # actionを渡すと結果を返す\n",
    "            # s1: 次のstate, r: 報酬, d: True/False, _: other\n",
    "            s1, r, d, _ = env.step(a[0])\n",
    "\n",
    "            # 次のQ値の推定値を求める\n",
    "            Q1 = sess.run(Qout, feed_dict={inputs1: np.identity(16)[s1 : s1 + 1]})\n",
    "            # 最大のQ値\n",
    "            maxQ1 = np.max(Q1)\n",
    "            # Q値のリスト\n",
    "            targetQ = allQ\n",
    "\n",
    "            # Q値のターゲットを更新する, ベルマン方程式\n",
    "            targetQ[0, a[0]] = r + y * maxQ1\n",
    "\n",
    "            # 新しい重みを求める\n",
    "            _, W1, _merged = sess.run(\n",
    "                [updateModel, W, merged],\n",
    "                feed_dict={inputs1: np.identity(16)[s : s + 1], nextQ: targetQ},\n",
    "            )\n",
    "\n",
    "            # 報酬の累積和の更新\n",
    "            rAll += r\n",
    "            # stateの更新\n",
    "            s = s1\n",
    "            if d == True:\n",
    "                # イプシロン（exploreの閾値）を更新\n",
    "                e = 1.0 / ((i / 50) + 10)\n",
    "                eList.append(e)\n",
    "                \n",
    "                # 報酬リストの更新\n",
    "                rewards_list.append((i, rAll))\n",
    "                break\n",
    "\n",
    "        # 新しい重みを求める\n",
    "        writer.add_summary(_merged)\n",
    "        writer.flush()\n",
    "        jList.append(j)  # 試行回数のリスト\n",
    "        rList.append(rAll)  # 報酬のリスト\n",
    "\n",
    "    writer.close()\n",
    "\n",
    "print(\"Success Episode Ratio: {}%\".format(sum(rList) / num_episodes * 100))"
   ]
  },
  {
   "cell_type": "code",
   "execution_count": 26,
   "metadata": {},
   "outputs": [],
   "source": [
    "%matplotlib inline"
   ]
  },
  {
   "cell_type": "code",
   "execution_count": 27,
   "metadata": {},
   "outputs": [
    {
     "data": {
      "text/plain": [
       "[<matplotlib.lines.Line2D at 0x11d4ef438>]"
      ]
     },
     "execution_count": 27,
     "metadata": {},
     "output_type": "execute_result"
    },
    {
     "data": {
      "image/png": "[encoded data removed]",
      "text/plain": [
       "<matplotlib.figure.Figure at 0x10bbd1160>"
      ]
     },
     "metadata": {},
     "output_type": "display_data"
    }
   ],
   "source": [
    "plt.plot(rList)"
   ]
  },
  {
   "cell_type": "code",
   "execution_count": 28,
   "metadata": {},
   "outputs": [
    {
     "data": {
      "text/plain": [
       "[<matplotlib.lines.Line2D at 0x11d8a0160>]"
      ]
     },
     "execution_count": 28,
     "metadata": {},
     "output_type": "execute_result"
    },
    {
     "data": {
      "image/png": "[encoded data removed]",
      "text/plain": [
       "<matplotlib.figure.Figure at 0x11d4d9518>"
      ]
     },
     "metadata": {},
     "output_type": "display_data"
    }
   ],
   "source": [
    "plt.plot(jList)"
   ]
  },
  {
   "cell_type": "code",
   "execution_count": 29,
   "metadata": {},
   "outputs": [
    {
     "data": {
      "text/plain": [
       "[<matplotlib.lines.Line2D at 0x11d8ba5f8>]"
      ]
     },
     "execution_count": 29,
     "metadata": {},
     "output_type": "execute_result"
    },
    {
     "data": {
      "image/png": "[encoded data removed]",
      "text/plain": [
       "<matplotlib.figure.Figure at 0x11d8854e0>"
      ]
     },
     "metadata": {},
     "output_type": "display_data"
    }
   ],
   "source": [
    "plt.plot(eList)"
   ]
  },
  {
   "cell_type": "code",
   "execution_count": 46,
   "metadata": {},
   "outputs": [
    {
     "data": {
      "text/plain": [
       "1944"
      ]
     },
     "execution_count": 46,
     "metadata": {},
     "output_type": "execute_result"
    }
   ],
   "source": [
    "len(rewards_list)"
   ]
  },
  {
   "cell_type": "code",
   "execution_count": 56,
   "metadata": {},
   "outputs": [],
   "source": [
    "\"\"\"トレーニングの結果を可視化しよう\"\"\"\n",
    "%matplotlib inline\n",
    "import matplotlib.pyplot as plt\n",
    "\n",
    "# 移動平均\n",
    "def running_mean(x, N):\n",
    "    # 累積和を求める\n",
    "    cumsum = np.cumsum(np.insert(x,0,0))\n",
    "    return (cumsum[N:] - cumsum[:-N]) / N"
   ]
  },
  {
   "cell_type": "code",
   "execution_count": 58,
   "metadata": {},
   "outputs": [
    {
     "name": "stdout",
     "output_type": "stream",
     "text": [
      "1945\n",
      "[0.05 0.05 0.05 ... 0.75 0.75 0.7 ]\n"
     ]
    },
    {
     "data": {
      "text/plain": [
       "Text(0,0.5,'Total Rewards')"
      ]
     },
     "execution_count": 58,
     "metadata": {},
     "output_type": "execute_result"
    },
    {
     "data": {
      "image/png": "[encoded data removed]",
      "text/plain": [
       "<matplotlib.figure.Figure at 0x122f06400>"
      ]
     },
     "metadata": {},
     "output_type": "display_data"
    }
   ],
   "source": [
    "# [(エピソード番号, 報酬和), (),,,] -> [(エピソード番号, #, #, #), (報酬和, #, #, #)]に変換する\n",
    "eps, rews = np.array(rewards_list).T\n",
    "# 移動平均\n",
    "smoothed_rews = running_mean(rews, 20)\n",
    "# エピソード番号と移動平均\n",
    "plt.plot(eps[-len(smoothed_rews) :], smoothed_rews)\n",
    "# エピソード番号と報酬和\n",
    "plt.plot(eps, rews, color=\"grey\", alpha=0.3)\n",
    "plt.xlabel(\"Episode\")\n",
    "plt.ylabel(\"Total Rewards\")"
   ]
  },
  {
   "cell_type": "code",
   "execution_count": null,
   "metadata": {},
   "outputs": [],
   "source": []
  }
 ],
 "metadata": {
  "kernelspec": {
   "display_name": "Python 3",
   "language": "python",
   "name": "python3"
  },
  "language_info": {
   "codemirror_mode": {
    "name": "ipython",
    "version": 3
   },
   "file_extension": ".py",
   "mimetype": "text/x-python",
   "name": "python",
   "nbconvert_exporter": "python",
   "pygments_lexer": "ipython3",
   "version": "3.6.3"
  }
 },
 "nbformat": 4,
 "nbformat_minor": 2
}
