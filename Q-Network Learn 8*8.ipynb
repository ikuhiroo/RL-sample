{
 "cells": [
  {
   "cell_type": "code",
   "execution_count": 1,
   "metadata": {},
   "outputs": [],
   "source": [
    "%matplotlib inline\n",
    "import gym\n",
    "import numpy as np\n",
    "import random\n",
    "import tensorflow as tf\n",
    "import matplotlib.pyplot as plt\n",
    "from tqdm import tqdm_notebook as tqdm"
   ]
  },
  {
   "cell_type": "code",
   "execution_count": 2,
   "metadata": {},
   "outputs": [],
   "source": [
    "# モデルの読み込み\n",
    "env = gym.make(\"FrozenLake8x8-v0\")"
   ]
  },
  {
   "cell_type": "code",
   "execution_count": 3,
   "metadata": {},
   "outputs": [
    {
     "data": {
      "text/plain": [
       "<function tensorflow.python.framework.ops.reset_default_graph>"
      ]
     },
     "execution_count": 3,
     "metadata": {},
     "output_type": "execute_result"
    }
   ],
   "source": [
    "# tenorflowの初期化\n",
    "tf.reset_default_graph"
   ]
  },
  {
   "cell_type": "code",
   "execution_count": 4,
   "metadata": {},
   "outputs": [],
   "source": [
    "# One-Hot Encoding\n",
    "with tf.name_scope('X'):\n",
    "    inputs1 = tf.placeholder(shape=[1, 64], dtype=tf.float32)\n",
    "    \n",
    "with tf.name_scope('W'):\n",
    "    W = tf.Variable(tf.random_uniform([64, 4], 0, 0.01))\n",
    "    tf.summary.histogram('W', W)"
   ]
  },
  {
   "cell_type": "code",
   "execution_count": 5,
   "metadata": {},
   "outputs": [],
   "source": [
    "with tf.name_scope('Qout-vecotor'):\n",
    "    # 内積計算\n",
    "    Qout = tf.matmul(inputs1, W)\n",
    "    # Q値が最大のaを返す\n",
    "    predict = tf.argmax(Qout, 1)"
   ]
  },
  {
   "cell_type": "code",
   "execution_count": 6,
   "metadata": {},
   "outputs": [],
   "source": [
    "with tf.name_scope('nextQ-vector'):\n",
    "    nextQ = tf.placeholder(shape=[1, 4], dtype=tf.float32)"
   ]
  },
  {
   "cell_type": "code",
   "execution_count": 7,
   "metadata": {},
   "outputs": [],
   "source": [
    "with tf.name_scope(\"loss\"):\n",
    "    # nextQとQoutの差を最小化するようにWを更新する\n",
    "    loss = tf.reduce_sum(tf.square(nextQ - Qout))\n",
    "    tf.summary.scalar('loss', loss)"
   ]
  },
  {
   "cell_type": "code",
   "execution_count": 8,
   "metadata": {},
   "outputs": [],
   "source": [
    "with tf.name_scope('trainops'):\n",
    "    updateModel = tf.train.GradientDescentOptimizer(learning_rate=0.1).minimize(loss)"
   ]
  },
  {
   "cell_type": "code",
   "execution_count": 9,
   "metadata": {},
   "outputs": [],
   "source": [
    "# ハイパーパラメータの設定\n",
    "y = 0.99\n",
    "e = 0.1\n",
    "num_episodes = 20000"
   ]
  },
  {
   "cell_type": "code",
   "execution_count": 10,
   "metadata": {},
   "outputs": [],
   "source": [
    "# 試行回数のリスト\n",
    "jList = []\n",
    "# 報酬のリスト\n",
    "rList = []\n",
    "# イプシロン（exploreの閾値）のリスト\n",
    "eList = []"
   ]
  },
  {
   "cell_type": "code",
   "execution_count": 11,
   "metadata": {},
   "outputs": [
    {
     "data": {
      "application/vnd.jupyter.widget-view+json": {
       "model_id": "41184b8ebadf4f4298edc67d5c3ae184",
       "version_major": 2,
       "version_minor": 0
      },
      "text/html": [
       "<p>Failed to display Jupyter Widget of type <code>HBox</code>.</p>\n",
       "<p>\n",
       "  If you're reading this message in the Jupyter Notebook or JupyterLab Notebook, it may mean\n",
       "  that the widgets JavaScript is still loading. If this message persists, it\n",
       "  likely means that the widgets JavaScript library is either not installed or\n",
       "  not enabled. See the <a href=\"https://ipywidgets.readthedocs.io/en/stable/user_install.html\">Jupyter\n",
       "  Widgets Documentation</a> for setup instructions.\n",
       "</p>\n",
       "<p>\n",
       "  If you're reading this message in another frontend (for example, a static\n",
       "  rendering on GitHub or <a href=\"https://nbviewer.jupyter.org/\">NBViewer</a>),\n",
       "  it may mean that your frontend doesn't currently support widgets.\n",
       "</p>\n"
      ],
      "text/plain": [
       "HBox(children=(IntProgress(value=0, max=20000), HTML(value='')))"
      ]
     },
     "metadata": {},
     "output_type": "display_data"
    },
    {
     "name": "stdout",
     "output_type": "stream",
     "text": [
      "\n",
      "Success Episode Ratio: 54.690000000000005%\n"
     ]
    }
   ],
   "source": [
    "with tf.Session() as sess:\n",
    "    init = tf.global_variables_initializer()\n",
    "    sess.run(init)\n",
    "    merged = tf.summary.merge_all()\n",
    "    writer = tf.summary.FileWriter(\"./logs\", sess.graph)\n",
    "    for i in tqdm(range(num_episodes)):\n",
    "        # statusの初期化\n",
    "        s = env.reset()\n",
    "        # 報酬の累積和の初期化\n",
    "        rAll = 0\n",
    "        d = False\n",
    "        j = 0\n",
    "        while j < 500:\n",
    "            j += 1\n",
    "            # 前回のstatusからQ値を予測\n",
    "            # a: Q値の最大値の手\n",
    "            # allQ: Q値のリスト\n",
    "            a, allQ = sess.run(\n",
    "                [predict, Qout], feed_dict={inputs1: np.identity(64)[s : s + 1]}\n",
    "            )\n",
    "\n",
    "            # εグリーディー(ランダムな手を打たせる）\n",
    "            # 10%以下の確率でランダムに指し手を決める\n",
    "            if np.random.rand(1) < e:\n",
    "                a[0] = env.action_space.sample()\n",
    "\n",
    "            # actionを渡すと結果を返す\n",
    "            # s1: 次のstate, r: 報酬, d: True/False, _: other\n",
    "            s1, r, d, _ = env.step(a[0])\n",
    "\n",
    "            # 次のQ値の推定値を求める\n",
    "            Q1 = sess.run(Qout, feed_dict={inputs1: np.identity(64)[s1 : s1 + 1]})\n",
    "            # 最大のQ値\n",
    "            maxQ1 = np.max(Q1)\n",
    "            # Q値のリスト\n",
    "            targetQ = allQ\n",
    "\n",
    "            # Q値のターゲットを更新する, ベルマン方程式\n",
    "            targetQ[0, a[0]] = r + y * maxQ1\n",
    "\n",
    "            # 新しい重みを求める\n",
    "            _, W1, _merged = sess.run(\n",
    "                [updateModel, W, merged],\n",
    "                feed_dict={inputs1: np.identity(64)[s : s + 1], nextQ: targetQ},\n",
    "            )\n",
    "\n",
    "            # 報酬の累積和の更新\n",
    "            rAll += r\n",
    "            # stateの更新\n",
    "            s = s1\n",
    "            if d == True:\n",
    "                # イプシロン（exploreの閾値）を更新\n",
    "                e = 1.0 / ((i / 500) + 10)\n",
    "                eList.append(e)\n",
    "                break\n",
    "\n",
    "        writer.add_summary(_merged)\n",
    "        writer.flush()\n",
    "        jList.append(j)  # 試行回数のリスト\n",
    "        rList.append(rAll)  # 報酬のリスト\n",
    "\n",
    "    writer.close()\n",
    "\n",
    "print(\"Success Episode Ratio: {}%\".format(sum(rList) / num_episodes * 100))"
   ]
  },
  {
   "cell_type": "code",
   "execution_count": 12,
   "metadata": {},
   "outputs": [
    {
     "data": {
      "text/plain": [
       "[<matplotlib.lines.Line2D at 0x115bd9b70>]"
      ]
     },
     "execution_count": 12,
     "metadata": {},
     "output_type": "execute_result"
    },
    {
     "data": {
      "image/png": "[encoded data removed]",
      "text/plain": [
       "<matplotlib.figure.Figure at 0x115bd9860>"
      ]
     },
     "metadata": {},
     "output_type": "display_data"
    }
   ],
   "source": [
    "plt.plot(rList)"
   ]
  },
  {
   "cell_type": "code",
   "execution_count": 13,
   "metadata": {},
   "outputs": [
    {
     "data": {
      "text/plain": [
       "[<matplotlib.lines.Line2D at 0x10d192240>]"
      ]
     },
     "execution_count": 13,
     "metadata": {},
     "output_type": "execute_result"
    },
    {
     "data": {
      "image/png": "[encoded data removed]",
      "text/plain": [
       "<matplotlib.figure.Figure at 0x115bd96a0>"
      ]
     },
     "metadata": {},
     "output_type": "display_data"
    }
   ],
   "source": [
    "plt.plot(jList)"
   ]
  },
  {
   "cell_type": "code",
   "execution_count": 14,
   "metadata": {},
   "outputs": [
    {
     "data": {
      "text/plain": [
       "[<matplotlib.lines.Line2D at 0x1160a62b0>]"
      ]
     },
     "execution_count": 14,
     "metadata": {},
     "output_type": "execute_result"
    },
    {
     "data": {
      "image/png": "[encoded data removed]",
      "text/plain": [
       "<matplotlib.figure.Figure at 0x10e12d240>"
      ]
     },
     "metadata": {},
     "output_type": "display_data"
    }
   ],
   "source": [
    "plt.plot(eList)"
   ]
  }
 ],
 "metadata": {
  "kernelspec": {
   "display_name": "Python 3",
   "language": "python",
   "name": "python3"
  },
  "language_info": {
   "codemirror_mode": {
    "name": "ipython",
    "version": 3
   },
   "file_extension": ".py",
   "mimetype": "text/x-python",
   "name": "python",
   "nbconvert_exporter": "python",
   "pygments_lexer": "ipython3",
   "version": "3.6.3"
  }
 },
 "nbformat": 4,
 "nbformat_minor": 2
}
